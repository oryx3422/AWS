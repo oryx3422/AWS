{
 "cells": [
  {
   "cell_type": "markdown",
   "id": "cf260427",
   "metadata": {
    "id": "cf260427"
   },
   "source": [
    "# Тема 2.1. Знакомство с классами.\n",
    "## Атрибуты класса. Экземпляр класса. Методы экземпляра класса.\n"
   ]
  },
  {
   "cell_type": "markdown",
   "id": "0a75cbad",
   "metadata": {
    "id": "0a75cbad"
   },
   "source": [
    "Задача 1.Создайте класс фрукты Fruit, хранящий информацию о форме фрукта,\n",
    "его цвете и вкусе. Форму, цвет и вкус фрукта оформить в виде атрибутов класса.\n",
    "Создать несколько объектов (экземпляров класса), изменить значения атрибутов\n",
    "класса для конкретных объектов.'''"
   ]
  },
  {
   "cell_type": "code",
   "execution_count": 23,
   "id": "25d9cc6b",
   "metadata": {
    "colab": {
     "base_uri": "https://localhost:8080/"
    },
    "id": "25d9cc6b",
    "outputId": "ee450053-22a4-42d4-e161-de8876f70648"
   },
   "outputs": [
    {
     "name": "stdout",
     "output_type": "stream",
     "text": [
      "{'name': 'lemon', 'form': 'circle', 'taste': 'sour', 'color': 'green'}\n",
      "\n",
      "{'name': 'apple', 'form': 'circle', 'taste': 'sour', 'color': 'red'}\n"
     ]
    }
   ],
   "source": [
    "class Fruit:\n",
    "    def __init__(self, name, form, taste, color):\n",
    "        self.name = name\n",
    "        self.form = form\n",
    "        self.taste = taste\n",
    "        self.color = color\n",
    "        \n",
    "    def __str__(self):\n",
    "        return f\"{self.__dict__}\"\n",
    "\n",
    "Lemon = Fruit('lemon', 'circle', 'sour', 'yellow')\n",
    "Apple = Fruit('apple','circle', 'sweet', 'red')\n",
    "\n",
    "Lemon.color = 'green'\n",
    "Apple.taste = 'sour'\n",
    "\n",
    "print(Lemon)\n",
    "print()\n",
    "print(Apple)\n",
    "\n"
   ]
  },
  {
   "cell_type": "markdown",
   "id": "705802e3",
   "metadata": {
    "id": "705802e3"
   },
   "source": [
    "\n",
    "'''Задача 2. Для класса фрукты Fruit, созданного в предыдущей задаче, создать\n",
    "атрибуты класса Вес и Количество динамически (не в классе)'''\n"
   ]
  },
  {
   "cell_type": "code",
   "execution_count": 25,
   "id": "ec653ca6",
   "metadata": {
    "id": "ec653ca6"
   },
   "outputs": [
    {
     "name": "stdout",
     "output_type": "stream",
     "text": [
      "{'name': 'lemon', 'form': 'circle', 'taste': 'sour', 'color': 'green', 'weight': 5, 'quantity': 14}\n",
      "\n",
      "{'name': 'apple', 'form': 'circle', 'taste': 'sour', 'color': 'red', 'weight': 4, 'quantity': 8}\n"
     ]
    }
   ],
   "source": [
    "Lemon.weight = 5\n",
    "Lemon.quantity = 14\n",
    "Apple.weight = 4\n",
    "Apple.quantity = 8\n",
    "\n",
    "print(Lemon)\n",
    "print()\n",
    "print(Apple)"
   ]
  },
  {
   "cell_type": "markdown",
   "id": "cf7ab119",
   "metadata": {
    "id": "cf7ab119"
   },
   "source": [
    "\n",
    "\n",
    "'''Задача 3. Для класса фрукты Fruit, созданного в задаче номер 1, создать:\n",
    "- метод подсчета общего веса текущего экземпляра класса.\n",
    "- метод сравнения общего веса данного экземпляра класса с любым другим.\n",
    "- метод вывода полной информации об экземпляре класса в виде таблицы.'''\n"
   ]
  },
  {
   "cell_type": "code",
   "execution_count": 137,
   "id": "2d6360a3",
   "metadata": {
    "colab": {
     "base_uri": "https://localhost:8080/"
    },
    "id": "2d6360a3",
    "outputId": "3cc4ecee-dc3a-4813-c444-03edc4cd332c"
   },
   "outputs": [
    {
     "name": "stdout",
     "output_type": "stream",
     "text": [
      "Name       Form       Color      Taste      Weight(kg)  Quantity    Total Weight(kg)\n",
      "apple      circle     red        sweet      4           25          100            \n",
      "\n",
      "lemon's весят больше чем apple's\n"
     ]
    }
   ],
   "source": [
    "class Fruit:\n",
    "    def __init__(self, name, form, taste, color):\n",
    "        self.name = name\n",
    "        self.form = form\n",
    "        self.taste = taste\n",
    "        self.color = color\n",
    "    \n",
    "    def total_weight(self):\n",
    "        return self.weight * self.quantity\n",
    "\n",
    "    def contrast_weight(self, other):\n",
    "        if self.total_weight() == other.total_weight():\n",
    "            return 'Вес равен'\n",
    "        if self.total_weight() < other.total_weight():\n",
    "            return f'{other.name}\\'s весят больше чем {self.name}\\'s'\n",
    "        else:\n",
    "            return f'{self.name}\\'s весят больше чем {other.name}\\'s'\n",
    "    \n",
    "    def __str__(self):\n",
    "        return f\"{'Name':<10} {'Form':<10} {'Color':<10} {'Taste':<10} {'Weight(kg)':<11} {'Quantity':<11} {'Total Weight(kg)':<15}\\n{self.name:<10} {self.form:<10} {self.color:<10} {self.taste:<10} {self.weight:<11} {self.quantity:<11} {self.total_weight():<15}\\n\"\n",
    "\n",
    "Lemon = Fruit('lemon', 'circle', 'sour', 'yellow')\n",
    "Apple = Fruit('apple', 'circle', 'sweet', 'red')\n",
    "\n",
    "Lemon.weight = 8\n",
    "Lemon.quantity = 14\n",
    "Apple.weight = 4\n",
    "Apple.quantity = 25\n",
    "\n",
    "print(Apple)\n",
    "\n",
    "print(Apple.contrast_weight(Lemon)) #  сравниваем общий вес apple's с lemon's\n"
   ]
  },
  {
   "cell_type": "markdown",
   "id": "7f8138af",
   "metadata": {
    "id": "7f8138af"
   },
   "source": [
    "\n",
    "'''Задача 4. Создать класс школьник, который хранит  информацию об ученике\n",
    "(имя, возраст, класс, all marks {'math':75}). Создать метод изменения среднего балла ученика\n",
    "и метод получения (вывода на печать) среднего балла ученика. Вывести полную информацию об ученике'''\n",
    "добавить метод добвления предмет и оценку к all marks\n"
   ]
  },
  {
   "cell_type": "code",
   "execution_count": 126,
   "id": "21a1963b",
   "metadata": {
    "colab": {
     "base_uri": "https://localhost:8080/"
    },
    "id": "21a1963b",
    "outputId": "48b5814a-93be-4df5-d909-1eadd55cbe92"
   },
   "outputs": [
    {
     "name": "stdout",
     "output_type": "stream",
     "text": [
      "Name: Anna\n",
      "Age: 15\n",
      "Grade: 10\n",
      "All marks: {'math': 90, 'biology': 50}\n",
      "Average mark: 70.0\n",
      "\n",
      "All marks: {'math': 90, 'biology': 50, 'history': 50}\n",
      "Average mark: 63.333333333333336\n"
     ]
    }
   ],
   "source": [
    "class Student:\n",
    "    def __init__(self, name, age, grade, all_marks):\n",
    "        self.name = name\n",
    "        self.age = age\n",
    "        self.grade = grade\n",
    "        self.all_marks = all_marks\n",
    "        \n",
    "    def add_mark(self, subject, mark):\n",
    "        self.all_marks[subject] = mark\n",
    "        \n",
    "    def calculate_avg(self):\n",
    "        total_marks = sum(self.all_marks.values())\n",
    "        return total_marks / len(self.all_marks)\n",
    "    \n",
    "    def __str__(self):\n",
    "        return f\"Name: {self.name}\\nAge: {self.age}\\nGrade: {self.grade}\\nAll marks: {self.all_marks}\\nAverage mark: {self.calculate_avg()}\\n\"      \n",
    "\n",
    "Max = Student('Max', 16, 11, {'math': 75})\n",
    "Anna = Student('Anna', 15, 10, {'math': 90})\n",
    "\n",
    "Anna.add_mark('biology', 50)\n",
    "\n",
    "print(Anna)\n",
    "\n",
    "Anna.add_mark('history', 50)\n",
    "print(f\"All marks: {Anna.all_marks}\\nAverage mark: {Anna.calculate_avg()}\") # avg mark with new mark"
   ]
  },
  {
   "cell_type": "markdown",
   "id": "651cd4ed",
   "metadata": {
    "id": "651cd4ed"
   },
   "source": [
    "\n",
    "'''Задача 5. К предыдущей задаче №4 добавить методы изменения имени и возраста ученика.'''\n",
    "\n"
   ]
  },
  {
   "cell_type": "code",
   "execution_count": 58,
   "id": "176c833e",
   "metadata": {
    "id": "176c833e",
    "scrolled": true
   },
   "outputs": [
    {
     "name": "stdout",
     "output_type": "stream",
     "text": [
      "Old name: Max\n",
      "New name: Andre\n",
      "\n",
      "Old age: 16\n",
      "New age: 20\n"
     ]
    }
   ],
   "source": [
    "class Student:\n",
    "    def __init__(self, name, age, grade, all_marks):\n",
    "        self.name = name\n",
    "        self.age = age\n",
    "        self.grade = grade\n",
    "        self.all_marks = all_marks\n",
    "        \n",
    "    def __str__(self):\n",
    "        return str(self.__dict__)\n",
    "        \n",
    "    def new_name(self, n_name):\n",
    "        self.name = n_name\n",
    "        return self\n",
    "        \n",
    "    def new_age(self, n_age):\n",
    "        self.age = n_age\n",
    "        return self\n",
    "\n",
    "Student1 = Student('Max', 16, 11, {'math': 75})\n",
    "\n",
    "\"\"\"\n",
    "print(f'Old name: {Student1.name}')\n",
    "print(f'Old age: {Student1.age}')\n",
    "print()\n",
    "\n",
    "Student1.new_name('Andre').new_age(20)\n",
    "print(f'New name: {Student1.name}')\n",
    "print(f'New age: {Student1.age}')\n",
    "\"\"\"\n",
    "print(f'Old name: {Student1.name}')\n",
    "Student1.new_name('Andre')\n",
    "print(f'New name: {Student1.name}')\n",
    "print()\n",
    "\n",
    "print(f'Old age: {Student1.age}')\n",
    "Student1.new_age(20)\n",
    "print(f'New age: {Student1.age}')"
   ]
  },
  {
   "cell_type": "markdown",
   "id": "9f65ac1a",
   "metadata": {
    "id": "9f65ac1a"
   },
   "source": [
    "'''Задача 6. Реализовать класс - простейший калькулятор, который в качестве методов реализует\n",
    "арифметические операции.\n",
    "Программа на вход принимает комбинацию чисел и операций,разделенных пробелами.\n",
    "Например, 6 - 7 + 4. В качестве операций для работы с числами использовать сложение и вычитание.'''"
   ]
  },
  {
   "cell_type": "code",
   "execution_count": 146,
   "id": "4e3764a7",
   "metadata": {
    "id": "4e3764a7"
   },
   "outputs": [
    {
     "name": "stdout",
     "output_type": "stream",
     "text": [
      "4\n"
     ]
    }
   ],
   "source": [
    "class Calculator:\n",
    "    def __init__(self, task):\n",
    "        self.task = task.split(' ')\n",
    "        self.result = self.task[0]\n",
    "        for i in range(1, len(self.task), 2):\n",
    "            if self.task[i] == '+':\n",
    "                self.result = self.__summ__(self.result, self.task[i+1])\n",
    "            elif self.task[i] == '-':\n",
    "                self.result = self.__sub__(self.result, self.task[i+1])\n",
    "                \n",
    "    def __str__(self):\n",
    "        return str(self.result)\n",
    "    \n",
    "    @staticmethod\n",
    "    def __summ__(a, b):\n",
    "        return int(a) + int(b)\n",
    "    \n",
    "    @staticmethod\n",
    "    def __sub__(a, b):\n",
    "        return int(a) - int(b)\n",
    "    \n",
    "result = Calculator('6 + 7 - 4 - 5')\n",
    "print(result)    "
   ]
  },
  {
   "cell_type": "markdown",
   "id": "4540c22c",
   "metadata": {
    "id": "4540c22c"
   },
   "source": [
    "7. Создайте класс Ведомость, имеющий атрибут класса: список_дисциплин (значением\n",
    "является список с названиями дисциплин); дисциплина (при задании значения проверять\n",
    "наличие дисциплины в атрибуте список_дисциплин), группа; методы: put – добавляет в\n",
    "ведомость информацию об оценке студента (фамилия, оценка – параметры метода). Для\n",
    "хранения данных внутри класса используйте словарь, в котором ключом является фамилия\n",
    "студента. Возможные оценки – «отлично», «хорошо», «удовл.», «неудовл.», «н/я»; get –\n",
    "возвращает оценку, полученную студентом (фамилия студента – параметр метода); change\n",
    "– изменяет оценку, полученную студентом (фамилия студента и новая оценка – параметры\n",
    "метода); del – удаляет информацию о студенте из ведомости (фамилия студента – параметр\n",
    "метода); result – возвращает кортеж из 5 чисел (количество каждого вида оценок в\n",
    "ведомости); __init__ – конструктор; __str__ – возвращает строку, содержащую заголовки\n",
    "(название экзамена, группа) и результаты экзамена в виде таблицы; count – возвращает\n",
    "количество студентов в ведомости; names – возвращает список фамилий, имеющихся в\n",
    "ведомости. Продемонстрируйте работу с классами, создав необходимые объекты и вызвав\n",
    "все их методы"
   ]
  },
  {
   "cell_type": "code",
   "execution_count": null,
   "id": "bcf21837",
   "metadata": {
    "id": "bcf21837"
   },
   "outputs": [],
   "source": []
  },
  {
   "cell_type": "markdown",
   "id": "c9a93dd9",
   "metadata": {
    "id": "c9a93dd9"
   },
   "source": [
    "8. Используя класс People в качестве базового, создайте класс Сотрудник (Worker),\n",
    "имеющий атрибуты: должность (post); зарплата (salary) и методы: __init__ – конструктор;\n",
    "__str__ – для вывода строковой информации. Создать два метода для класса Сотрудник и\n",
    "один метод для класса People. Продемонстрируйте работу с классами, создав необходимые\n",
    "объекты и вызвав все их методы.\n"
   ]
  },
  {
   "cell_type": "code",
   "execution_count": 121,
   "id": "62b023af",
   "metadata": {
    "id": "62b023af"
   },
   "outputs": [
    {
     "name": "stdout",
     "output_type": "stream",
     "text": [
      "Name: John\n",
      "Age: 30\n",
      "Post: Manager\n",
      "Salary: 50000\n",
      "\n",
      "Name: John\n",
      "Age: 30\n",
      "Post: CEO\n",
      "Salary: 50000\n",
      "\n",
      "Name: John\n",
      "Age: 30\n",
      "Post: CEO\n",
      "Salary: 50000\n",
      "\n",
      "Name: Anna\n",
      "Age: 30\n"
     ]
    }
   ],
   "source": [
    "class People:\n",
    "    def __init__(self, name, age):\n",
    "        self.name = name\n",
    "        self.age = age\n",
    "      \n",
    "    def __str__(self):\n",
    "        return f\"Name: {self.name}\\nAge: {self.age}\"\n",
    "    \n",
    "class Worker(People):\n",
    "    def __init__(self, name, age, post, salary):\n",
    "        self.name = name\n",
    "        self.age = age\n",
    "        self.post = post\n",
    "        self.salary = salary\n",
    "        \n",
    "    def change_post(self, new_post):\n",
    "        self.post = new_post\n",
    "        \n",
    "    def __str__(self):\n",
    "        return f\"Name: {self.name}\\nAge: {self.age}\\nPost: {self.post}\\nSalary: {self.salary}\\n\"\n",
    "    \n",
    "    def add_salary(self, value):\n",
    "        self.salary += value\n",
    "        \n",
    "        \n",
    "if __name__ == '__main__':\n",
    "    John = Worker(\"John\", 30, \"Manager\", 50000)\n",
    "    Alice = Worker(\"Alice\", 25, \"Developer\", 60000)\n",
    "    \n",
    "print(John)\n",
    "John.change_post(\"CEO\")\n",
    "\n",
    "print(John) #  New post\n",
    "\n",
    "worker1.add_salary(-20000) \n",
    "print(John) #  New salary\n",
    "\n",
    "Anna = People('Anna', 30)\n",
    "print(Anna)\n"
   ]
  },
  {
   "cell_type": "markdown",
   "id": "5e4f08a1",
   "metadata": {
    "id": "5e4f08a1"
   },
   "source": [
    "9. Используя класс Сотрудник в качестве базового создайте класс Преподаватель\n",
    "(Teacher), имеющий: атрибут дисциплины (disciplines), в котором хранятся названия\n",
    "дисциплин, которые ведет преподаватель; методы __init__ и __str__;методы\n",
    "добавить_дисциплину (add_dis) и удалить_дисциплину (delete_dis), которые позволяют\n",
    "изменять список дисциплин. Продемонстрируйте работу с классами, создав необходимые\n",
    "объекты и вызвав все их методы."
   ]
  },
  {
   "cell_type": "code",
   "execution_count": 113,
   "id": "16ffb162",
   "metadata": {
    "id": "16ffb162"
   },
   "outputs": [
    {
     "name": "stdout",
     "output_type": "stream",
     "text": [
      "Name       Post       Salary     Disciplines\n",
      "Anna       Kandidat   90000      ['Math', 'Physics']\n",
      "\n",
      "Name       Post       Salary     Disciplines\n",
      "Anna       Kandidat   90000      ['Math', 'Physics', 'Python']\n",
      "\n",
      "Name       Post       Salary     Disciplines\n",
      "Anna       Kandidat   90000      ['Physics', 'Python']\n",
      "\n"
     ]
    }
   ],
   "source": [
    "class Teacher(Worker):\n",
    "    def __init__(self, name, post, salary, disciplines = []):\n",
    "        self.name = name\n",
    "        self.post = post\n",
    "        self.salary = salary\n",
    "        self.disciplines = disciplines\n",
    "        \n",
    "    def __str__(self):\n",
    "        return f\"{'Name':<10} {'Post':<10} {'Salary':<10} {'Disciplines':<10}\\n{self.name:<10} {self.post:<10} {self.salary:<10} {self.disciplines}\\n\"\n",
    "        \n",
    "    def add_dis(self, discipline):\n",
    "        if discipline not in self.disciplines:\n",
    "            self.disciplines.append(discipline)\n",
    "            \n",
    "    def del_dis(self, discipline):\n",
    "        if discipline in self.disciplines:\n",
    "            self.disciplines.remove(discipline)\n",
    "\n",
    "Anna = Teacher('Anna', 'Kandidat', 90000, ['Math', 'Physics'])\n",
    "\n",
    "print(Anna)\n",
    "\n",
    "Anna.add_dis('Python')\n",
    "print(Anna) # Anna with added(new) discipline\n",
    "\n",
    "Anna.del_dis('Math')\n",
    "print(Anna) # Anna with deleted discipline"
   ]
  }
 ],
 "metadata": {
  "colab": {
   "provenance": []
  },
  "kernelspec": {
   "display_name": "Python 3 (ipykernel)",
   "language": "python",
   "name": "python3"
  },
  "language_info": {
   "codemirror_mode": {
    "name": "ipython",
    "version": 3
   },
   "file_extension": ".py",
   "mimetype": "text/x-python",
   "name": "python",
   "nbconvert_exporter": "python",
   "pygments_lexer": "ipython3",
   "version": "3.11.5"
  }
 },
 "nbformat": 4,
 "nbformat_minor": 5
}
