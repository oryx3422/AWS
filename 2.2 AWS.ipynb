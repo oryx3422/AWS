{
 "cells": [
  {
   "cell_type": "markdown",
   "id": "a48437d9",
   "metadata": {},
   "source": [
    "# Тема 2.2. Конструктор. Абстракция. Полиморфизм.\n"
   ]
  },
  {
   "cell_type": "markdown",
   "id": "bec72f91",
   "metadata": {},
   "source": [
    "Задача 1. Создать класс, хранящий в себе информацию о котах.\n",
    "С помощью конструктора класса создать несколько объектов данного класса'''"
   ]
  },
  {
   "cell_type": "code",
   "execution_count": null,
   "id": "7d2ccc4d",
   "metadata": {},
   "outputs": [],
   "source": [
    "class Cat:\n",
    "    def __init__(self, name, age, color):\n",
    "        self.name = name\n",
    "        self.age = age\n",
    "        self.color = color\n",
    "\n",
    "meow1 = Cat(\"Самса\", 3, \"оранжевый\")\n",
    "meow2 = Cat(\"Даг кот\", 2, \"чб\")\n",
    "\n",
    "print(f\"Cat1\\nName:{meow1.name}    Age:{meow1.age}  Color:{meow1.color}\\n\")\n",
    "print(f\"Cat2\\nName:{meow2.name}  Age:{meow2.age}  Color:{meow2.color}\")\n",
    "\n",
    "# class Cat1(Cat):\n",
    "#     def __init__(self, name, color):\n",
    "#         super().__init__(name, color)\n",
    "#         pass\n",
    "#\n",
    "# class Cat2(Cat):\n",
    "#     def __init__(self, name, color):\n",
    "#         super().__init__(name, color)\n",
    "#         pass"
   ]
  },
  {
   "cell_type": "markdown",
   "id": "c14a7446",
   "metadata": {},
   "source": [
    "Задача 2. Создать класс Учитель и Ученик. По результатам работы данных классов\n",
    "вывести на экран всех учеников, которых обучил учитель. Для каждого ученика вывести\n",
    "информацию, по какому предмету они обучились и их оценку.'''"
   ]
  },
  {
   "cell_type": "code",
   "execution_count": null,
   "id": "d99b4e18",
   "metadata": {},
   "outputs": [],
   "source": [
    "class Teacher:\n",
    "    def __init__(self, name, discipline):\n",
    "        self.name = name\n",
    "        self.discipline = discipline\n",
    "        self.students = []\n",
    "\n",
    "    def add_student(self, student):\n",
    "        self.students.append(student)\n",
    "\n",
    "    def show_students_info(self):\n",
    "        print(f\"Teacher: {self.name}\\nDiscipline: {self.discipline}\\n\")\n",
    "        print(f\"{self.name}\\'s students:\\n\")\n",
    "        for student in self.students:\n",
    "            print(f\"Name: {student.name}\")\n",
    "            for subject, mark in student.all_marks.items():\n",
    "                print(f\"Subject: {subject}, Mark: {mark}\")\n",
    "            print()\n",
    "            \n",
    "class Student:\n",
    "    def __init__(self, name, age, grade):\n",
    "        self.name = name\n",
    "        self.age = age\n",
    "        self.grade = grade\n",
    "        self.all_marks = {}\n",
    "\n",
    "    def add_mark(self, subject, mark):\n",
    "        self.all_marks[subject] = mark\n",
    "\n",
    "    def __str__(self):\n",
    "        return f\"Name: {self.name}, Age: {self.age}, Grade: {self.grade}\"\n",
    "\n",
    "teacher1 = Teacher(\"Mr Bob\", \"Math\")\n",
    "\n",
    "student1 = Student('Max', 16, 11)\n",
    "student1.add_mark('math', 75)\n",
    "\n",
    "student2 = Student('Anna', 15, 10)\n",
    "student2.add_mark('math', 90)\n",
    "student2.add_mark('biology', 50)\n",
    "student2.add_mark('history', 50)\n",
    "\n",
    "teacher1.add_student(student1)\n",
    "teacher1.add_student(student2)\n",
    "\n",
    "teacher1.show_students_info()"
   ]
  },
  {
   "cell_type": "markdown",
   "id": "5fb64315",
   "metadata": {},
   "source": [
    "Задача 3. Создать два класса домашних и диких животных,\n",
    "содержащих одинаковый метод \"Предпочтения в еде\". Использовать данный метод для\n",
    "двух классов (принцип полиморфизма).В конструкторе домашнего животного\n",
    "использовать название животного и возраст. В конструкторе дикого животного\n",
    "использовать только название животного'''"
   ]
  },
  {
   "cell_type": "code",
   "execution_count": null,
   "id": "2d3a88c8",
   "metadata": {},
   "outputs": [],
   "source": [
    "class Wild:\n",
    "    def __init__(self, name):\n",
    "        self.name = name\n",
    "\n",
    "    def food(self):\n",
    "        if isinstance(self, Pet):\n",
    "            return \"домашний мяу\"\n",
    "        elif isinstance(self, Wild):\n",
    "            return \"дикий мяу\"\n",
    "\n",
    "class Pet(Wild):\n",
    "    def __init__(self, name, age):\n",
    "        super().__init__(name)\n",
    "        self.age = age\n",
    "\n",
    "pet_meow = Pet(\"Самса\", 5)\n",
    "print(f\"{pet_meow.name} - {pet_meow.food()}\")\n",
    "print()\n",
    "wild_meow = Wild(\"Дикий кавказский кот\")\n",
    "print(f\"{wild_meow.name} - {wild_meow.food()}\")"
   ]
  },
  {
   "cell_type": "markdown",
   "id": "d7712791",
   "metadata": {},
   "source": [
    "Задача 4. Создайте класс Часы по переводу минут в часы или секунды.\n",
    "Пользователь должен задать время, напрмер, 89 минут, и также пользователь должен\n",
    "определить в часы или в секунды перевести заданное время. Используйте\n",
    "принципы абстракции, инкапсуляции, а также конструктор классов'''"
   ]
  },
  {
   "cell_type": "code",
   "execution_count": null,
   "id": "98bd9945",
   "metadata": {},
   "outputs": [],
   "source": [
    "class Clock:\n",
    "    def __init__(self, min):\n",
    "        self.min = min\n",
    "\n",
    "    def calc(self, input):\n",
    "        if input == \"seconds\":\n",
    "            return f\"{self.min * 60} секунд\"\n",
    "        elif input == \"hours\":\n",
    "            return f\"{self.min // 60} часов {self.min % 60} минут\"\n",
    "                                                         \n",
    "clock = Clock(62)\n",
    "print(f\"{clock.min} минут\")\n",
    "print(clock.calc(\"seconds\"))\n",
    "print(clock.calc(\"hours\"))"
   ]
  },
  {
   "cell_type": "markdown",
   "id": "270c08ab",
   "metadata": {},
   "source": [
    "Задача 5. Создайте класс мебели . Используйте конструктор с параметрами по умолчанию.\n",
    "Определите с помощью класса дорогая или нет мебель. Учесть, что дорогая мебель\n",
    "с ценой выше 20000руб, а дешевая с ценой ниже 5 000руб.Ценовые пороги мебели может\n",
    "задавать пользователь.'''\n"
   ]
  },
  {
   "cell_type": "code",
   "execution_count": null,
   "id": "8192f562",
   "metadata": {},
   "outputs": [
    {
     "name": "stdout",
     "output_type": "stream",
     "text": [
      "Цена табуретки: 2000\n"
     ]
    }
   ],
   "source": [
    "class Furniture:\n",
    "    def __init__(self, name, cost):\n",
    "        self.name = name\n",
    "        self.cost = cost\n",
    "\n",
    "    def anal_cost(self, min_porog, max_porog):\n",
    "        if self.cost < min_porog:\n",
    "            return \"ДЁШЕВО - МНОГО БЕРЕМ\"\n",
    "        elif self.cost > max_porog:\n",
    "            return \"ДОРОГО  - НЕ БЕРЕМ\"\n",
    "        else:\n",
    "            return(\"ШИК - БЕРЕМ\")\n",
    "\n",
    "chair = Furniture(\"Chair\", 2000)\n",
    "print(f\"Цена табуретки: {chair.cost}\")\n",
    "print(chair.anal_cost(int(input(\"Введите минимальный порог:\")), int(input(\"Введите максимальный порог:\"))))"
   ]
  }
 ],
 "metadata": {
  "kernelspec": {
   "display_name": "Python 3 (ipykernel)",
   "language": "python",
   "name": "python3"
  },
  "language_info": {
   "codemirror_mode": {
    "name": "ipython",
    "version": 3
   },
   "file_extension": ".py",
   "mimetype": "text/x-python",
   "name": "python",
   "nbconvert_exporter": "python",
   "pygments_lexer": "ipython3",
   "version": "3.11.5"
  }
 },
 "nbformat": 4,
 "nbformat_minor": 5
}
